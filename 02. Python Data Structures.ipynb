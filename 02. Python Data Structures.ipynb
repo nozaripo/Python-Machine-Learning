{
 "cells": [
  {
   "cell_type": "markdown",
   "id": "17f1699d",
   "metadata": {},
   "source": [
    "# Python Data Structures and Boolean\n",
    "\n",
    "- Boolean and Logical Operators\n",
    "- Lists\n",
    "- Comparison operators\n",
    "- Dictionaries\n",
    "- Tuples\n",
    "- Sets"
   ]
  },
  {
   "cell_type": "markdown",
   "id": "079b8e5c",
   "metadata": {},
   "source": [
    "## Boolean Variable"
   ]
  },
  {
   "cell_type": "markdown",
   "id": "e8b80c3a",
   "metadata": {},
   "source": [
    "You can use function `bool()` to create a boolean variable"
   ]
  },
  {
   "cell_type": "code",
   "execution_count": 4,
   "id": "4f57de36",
   "metadata": {},
   "outputs": [
    {
     "data": {
      "text/plain": [
       "False"
      ]
     },
     "execution_count": 4,
     "metadata": {},
     "output_type": "execute_result"
    }
   ],
   "source": [
    "bool(0)"
   ]
  },
  {
   "cell_type": "code",
   "execution_count": 5,
   "id": "b96fdd91",
   "metadata": {},
   "outputs": [
    {
     "data": {
      "text/plain": [
       "True"
      ]
     },
     "execution_count": 5,
     "metadata": {},
     "output_type": "execute_result"
    }
   ],
   "source": [
    "bool(1)"
   ]
  },
  {
   "cell_type": "code",
   "execution_count": 6,
   "id": "b2abb421",
   "metadata": {},
   "outputs": [
    {
     "data": {
      "text/plain": [
       "bool"
      ]
     },
     "execution_count": 6,
     "metadata": {},
     "output_type": "execute_result"
    }
   ],
   "source": [
    "type(True)"
   ]
  },
  {
   "cell_type": "code",
   "execution_count": 27,
   "id": "f06c485c",
   "metadata": {},
   "outputs": [],
   "source": [
    "my_str = \"PouriaNozari\""
   ]
  },
  {
   "cell_type": "code",
   "execution_count": null,
   "id": "3d17f1b2",
   "metadata": {},
   "outputs": [],
   "source": [
    "my_str.istitle()"
   ]
  },
  {
   "cell_type": "code",
   "execution_count": 28,
   "id": "05653377",
   "metadata": {},
   "outputs": [
    {
     "name": "stdout",
     "output_type": "stream",
     "text": [
      "True\n",
      "True\n",
      "False\n",
      "True\n",
      "False\n",
      "False\n",
      "False\n",
      "False\n",
      "False\n"
     ]
    }
   ],
   "source": [
    "print(my_str.isalnum()) # Check if all char are numbers and alphabetic - Should not have space\n",
    "print(my_str.isalpha()) # Check if all char are alphabetic - Should not have space\n",
    "print(my_str.isdigit()) # Check if the string is all numbers\n",
    "print(my_str.istitle()) # Check if the string contains title words - Only the first char should be Cap letter\n",
    "print(my_str.isupper()) # Check if the string is all upper case\n",
    "print(my_str.islower()) # Check if the string is all lower case\n",
    "print(my_str.isspace()) # Check if the string is all white spaces\n",
    "print(my_str.endswith(\"r\")) # Check if the string ends with \"r\"\n",
    "print(my_str.startswith(\"p\")) # Check if the string ends with \"p\""
   ]
  },
  {
   "cell_type": "markdown",
   "id": "2bb9f57d",
   "metadata": {},
   "source": [
    "## Boolean and Logical Operators"
   ]
  },
  {
   "cell_type": "code",
   "execution_count": 29,
   "id": "67e1d4f8",
   "metadata": {},
   "outputs": [
    {
     "data": {
      "text/plain": [
       "True"
      ]
     },
     "execution_count": 29,
     "metadata": {},
     "output_type": "execute_result"
    }
   ],
   "source": [
    "True and True"
   ]
  },
  {
   "cell_type": "code",
   "execution_count": 30,
   "id": "6cd26b6b",
   "metadata": {},
   "outputs": [
    {
     "data": {
      "text/plain": [
       "False"
      ]
     },
     "execution_count": 30,
     "metadata": {},
     "output_type": "execute_result"
    }
   ],
   "source": [
    "True and False"
   ]
  },
  {
   "cell_type": "code",
   "execution_count": 32,
   "id": "9a591912",
   "metadata": {},
   "outputs": [
    {
     "data": {
      "text/plain": [
       "True"
      ]
     },
     "execution_count": 32,
     "metadata": {},
     "output_type": "execute_result"
    }
   ],
   "source": [
    "True or False"
   ]
  },
  {
   "cell_type": "code",
   "execution_count": 34,
   "id": "157d85e0",
   "metadata": {},
   "outputs": [
    {
     "data": {
      "text/plain": [
       "False"
      ]
     },
     "execution_count": 34,
     "metadata": {},
     "output_type": "execute_result"
    }
   ],
   "source": [
    "False or False"
   ]
  },
  {
   "cell_type": "code",
   "execution_count": 40,
   "id": "a3802459",
   "metadata": {},
   "outputs": [],
   "source": [
    "str_eg = 'Hello World'\n",
    "my_str = \"Pouria\""
   ]
  },
  {
   "cell_type": "code",
   "execution_count": 45,
   "id": "d6926ca7",
   "metadata": {},
   "outputs": [
    {
     "data": {
      "text/plain": [
       "True"
      ]
     },
     "execution_count": 45,
     "metadata": {},
     "output_type": "execute_result"
    }
   ],
   "source": [
    "my_str.isalpha() or str_eg.isnumeric()"
   ]
  },
  {
   "cell_type": "markdown",
   "id": "84568816",
   "metadata": {},
   "source": [
    "## Lists\n",
    "A list is a data structure in Python that is a mutable, or changeable, ordered sequence of elements. Each element or value that is inside of a list is called an item. Just as strings are defined as characters between quotes, lists are defined by having values between square brackets `[ ]`."
   ]
  },
  {
   "cell_type": "code",
   "execution_count": 46,
   "id": "6539a713",
   "metadata": {},
   "outputs": [],
   "source": [
    "list_example = []"
   ]
  },
  {
   "cell_type": "code",
   "execution_count": 47,
   "id": "bb7278f1",
   "metadata": {},
   "outputs": [
    {
     "data": {
      "text/plain": [
       "list"
      ]
     },
     "execution_count": 47,
     "metadata": {},
     "output_type": "execute_result"
    }
   ],
   "source": [
    "type(list_example)"
   ]
  },
  {
   "cell_type": "markdown",
   "id": "ec529d55",
   "metadata": {},
   "source": [
    "You can also use `list()` to convert a non-list object to a list object."
   ]
  },
  {
   "cell_type": "code",
   "execution_count": 48,
   "id": "9f70d05b",
   "metadata": {},
   "outputs": [],
   "source": [
    "lst = [\"Math\", \"Chemistry\", 200, 12, True]"
   ]
  },
  {
   "cell_type": "code",
   "execution_count": 49,
   "id": "ef275803",
   "metadata": {},
   "outputs": [
    {
     "data": {
      "text/plain": [
       "5"
      ]
     },
     "execution_count": 49,
     "metadata": {},
     "output_type": "execute_result"
    }
   ],
   "source": [
    "len(lst)"
   ]
  },
  {
   "cell_type": "code",
   "execution_count": 50,
   "id": "3cfd3adc",
   "metadata": {},
   "outputs": [],
   "source": [
    "lst2 = [[\"Math\", \"Chemistry\"], [21, 12], True]"
   ]
  },
  {
   "cell_type": "code",
   "execution_count": 51,
   "id": "e480d243",
   "metadata": {},
   "outputs": [
    {
     "data": {
      "text/plain": [
       "3"
      ]
     },
     "execution_count": 51,
     "metadata": {},
     "output_type": "execute_result"
    }
   ],
   "source": [
    "len(lst2)"
   ]
  },
  {
   "cell_type": "markdown",
   "id": "15d71484",
   "metadata": {},
   "source": [
    "### Indexing"
   ]
  },
  {
   "cell_type": "code",
   "execution_count": 54,
   "id": "0c9a3e8e",
   "metadata": {},
   "outputs": [
    {
     "data": {
      "text/plain": [
       "12"
      ]
     },
     "execution_count": 54,
     "metadata": {},
     "output_type": "execute_result"
    }
   ],
   "source": [
    "lst[3]"
   ]
  },
  {
   "cell_type": "code",
   "execution_count": 56,
   "id": "d595889d",
   "metadata": {},
   "outputs": [
    {
     "data": {
      "text/plain": [
       "12"
      ]
     },
     "execution_count": 56,
     "metadata": {},
     "output_type": "execute_result"
    }
   ],
   "source": [
    "lst2[1][1]"
   ]
  },
  {
   "cell_type": "code",
   "execution_count": 57,
   "id": "ff88876d",
   "metadata": {},
   "outputs": [
    {
     "data": {
      "text/plain": [
       "['Chemistry', 200, 12, True, 'Pouria']"
      ]
     },
     "execution_count": 57,
     "metadata": {},
     "output_type": "execute_result"
    }
   ],
   "source": [
    "lst[1:]"
   ]
  },
  {
   "cell_type": "code",
   "execution_count": 59,
   "id": "baa4367e",
   "metadata": {
    "scrolled": true
   },
   "outputs": [
    {
     "data": {
      "text/plain": [
       "['Chemistry', 200, 12, True]"
      ]
     },
     "execution_count": 59,
     "metadata": {},
     "output_type": "execute_result"
    }
   ],
   "source": [
    "lst[1:-1]\n",
    "lst[1:len(lst)-1]"
   ]
  },
  {
   "cell_type": "markdown",
   "id": "5dfe05c3",
   "metadata": {},
   "source": [
    "### Append"
   ]
  },
  {
   "cell_type": "code",
   "execution_count": 52,
   "id": "cd24aa08",
   "metadata": {},
   "outputs": [],
   "source": [
    "lst.append(\"Pouria\")"
   ]
  },
  {
   "cell_type": "code",
   "execution_count": 53,
   "id": "07f20d5b",
   "metadata": {},
   "outputs": [
    {
     "data": {
      "text/plain": [
       "['Math', 'Chemistry', 200, 12, True, 'Pouria']"
      ]
     },
     "execution_count": 53,
     "metadata": {},
     "output_type": "execute_result"
    }
   ],
   "source": [
    "lst"
   ]
  },
  {
   "cell_type": "markdown",
   "id": "565d792e",
   "metadata": {},
   "source": [
    "Add multiple entities as a nested list"
   ]
  },
  {
   "cell_type": "code",
   "execution_count": 60,
   "id": "4960ec45",
   "metadata": {},
   "outputs": [],
   "source": [
    "lst.append([\"John\", \"Jack\"])"
   ]
  },
  {
   "cell_type": "code",
   "execution_count": 61,
   "id": "0bd4df10",
   "metadata": {},
   "outputs": [
    {
     "data": {
      "text/plain": [
       "['Math', 'Chemistry', 200, 12, True, 'Pouria', ['John', 'Jack']]"
      ]
     },
     "execution_count": 61,
     "metadata": {},
     "output_type": "execute_result"
    }
   ],
   "source": [
    "lst"
   ]
  },
  {
   "cell_type": "markdown",
   "id": "22f3d5fe",
   "metadata": {},
   "source": [
    "### Insert\n",
    "Insert in a specific order"
   ]
  },
  {
   "cell_type": "code",
   "execution_count": 62,
   "id": "b82bfd37",
   "metadata": {},
   "outputs": [],
   "source": [
    "lst.insert(1, \"Nozari\")"
   ]
  },
  {
   "cell_type": "code",
   "execution_count": 63,
   "id": "22fd7ec5",
   "metadata": {},
   "outputs": [
    {
     "data": {
      "text/plain": [
       "['Math', 'Nozari', 'Chemistry', 200, 12, True, 'Pouria', ['John', 'Jack']]"
      ]
     },
     "execution_count": 63,
     "metadata": {},
     "output_type": "execute_result"
    }
   ],
   "source": [
    "lst"
   ]
  },
  {
   "cell_type": "markdown",
   "id": "144c19d0",
   "metadata": {},
   "source": [
    "### Extend\n",
    "Add multiple entities separately"
   ]
  },
  {
   "cell_type": "code",
   "execution_count": 65,
   "id": "0b55a6b7",
   "metadata": {},
   "outputs": [],
   "source": [
    "lst.extend([\"Jack\", \"John\"])"
   ]
  },
  {
   "cell_type": "code",
   "execution_count": 66,
   "id": "26006eee",
   "metadata": {},
   "outputs": [
    {
     "data": {
      "text/plain": [
       "['Math',\n",
       " 'Nozari',\n",
       " 'Chemistry',\n",
       " 200,\n",
       " 12,\n",
       " True,\n",
       " 'Pouria',\n",
       " ['John', 'Jack'],\n",
       " 'Jack',\n",
       " 'John',\n",
       " 'Jack',\n",
       " 'John']"
      ]
     },
     "execution_count": 66,
     "metadata": {},
     "output_type": "execute_result"
    }
   ],
   "source": [
    "lst"
   ]
  },
  {
   "cell_type": "markdown",
   "id": "fe4c5876",
   "metadata": {},
   "source": [
    "### `pop()` Method"
   ]
  },
  {
   "cell_type": "code",
   "execution_count": 68,
   "id": "9307cb7c",
   "metadata": {},
   "outputs": [
    {
     "data": {
      "text/plain": [
       "'John'"
      ]
     },
     "execution_count": 68,
     "metadata": {},
     "output_type": "execute_result"
    }
   ],
   "source": [
    "lst.pop()"
   ]
  },
  {
   "cell_type": "code",
   "execution_count": 69,
   "id": "4548681b",
   "metadata": {},
   "outputs": [
    {
     "data": {
      "text/plain": [
       "'Math'"
      ]
     },
     "execution_count": 69,
     "metadata": {},
     "output_type": "execute_result"
    }
   ],
   "source": [
    "lst.pop(0)"
   ]
  },
  {
   "cell_type": "markdown",
   "id": "6333399a",
   "metadata": {},
   "source": [
    "### `count()`"
   ]
  },
  {
   "cell_type": "code",
   "execution_count": 70,
   "id": "ec37591d",
   "metadata": {},
   "outputs": [
    {
     "data": {
      "text/plain": [
       "1"
      ]
     },
     "execution_count": 70,
     "metadata": {},
     "output_type": "execute_result"
    }
   ],
   "source": [
    "lst.count(\"John\")"
   ]
  },
  {
   "cell_type": "markdown",
   "id": "167f3a28",
   "metadata": {},
   "source": [
    "### `.index()`"
   ]
  },
  {
   "cell_type": "code",
   "execution_count": 71,
   "id": "a81cddcf",
   "metadata": {},
   "outputs": [],
   "source": [
    "lst = [1, 1, 2, 23, 4]"
   ]
  },
  {
   "cell_type": "code",
   "execution_count": 72,
   "id": "f0339650",
   "metadata": {},
   "outputs": [
    {
     "data": {
      "text/plain": [
       "0"
      ]
     },
     "execution_count": 72,
     "metadata": {},
     "output_type": "execute_result"
    }
   ],
   "source": [
    "lst.index(1)"
   ]
  },
  {
   "cell_type": "code",
   "execution_count": 73,
   "id": "d2dda178",
   "metadata": {},
   "outputs": [
    {
     "data": {
      "text/plain": [
       "1"
      ]
     },
     "execution_count": 73,
     "metadata": {},
     "output_type": "execute_result"
    }
   ],
   "source": [
    "lst.index(1,1,4)"
   ]
  },
  {
   "cell_type": "markdown",
   "id": "5f5c6510",
   "metadata": {},
   "source": [
    "### Some other operations on Lists"
   ]
  },
  {
   "cell_type": "code",
   "execution_count": 74,
   "id": "afa967af",
   "metadata": {},
   "outputs": [
    {
     "data": {
      "text/plain": [
       "[1, 1, 2, 23, 4, 1, 1, 2, 23, 4]"
      ]
     },
     "execution_count": 74,
     "metadata": {},
     "output_type": "execute_result"
    }
   ],
   "source": [
    "lst*2"
   ]
  },
  {
   "cell_type": "markdown",
   "id": "21081b3a",
   "metadata": {},
   "source": [
    "## Sets\n",
    "A set is an unordered collection data type that is iterable, mutable, and has no duplicate elements. Python's set class represents the mathematical notion of a set. This is based on a data structure known as a **hash table**."
   ]
  },
  {
   "cell_type": "code",
   "execution_count": 1,
   "id": "05bb1582",
   "metadata": {},
   "outputs": [],
   "source": [
    "# Define an empty set\n",
    "\n",
    "set_var = set()"
   ]
  },
  {
   "cell_type": "code",
   "execution_count": 2,
   "id": "f60db37f",
   "metadata": {},
   "outputs": [
    {
     "data": {
      "text/plain": [
       "{1, 2, 3, 4}"
      ]
     },
     "execution_count": 2,
     "metadata": {},
     "output_type": "execute_result"
    }
   ],
   "source": [
    "set_var = {1,2,3,4,3}\n",
    "set_var"
   ]
  },
  {
   "cell_type": "code",
   "execution_count": 3,
   "id": "0c4588ec",
   "metadata": {},
   "outputs": [
    {
     "name": "stdout",
     "output_type": "stream",
     "text": [
      "{'Ironman', 'Hitman', 'Avengers'}\n"
     ]
    },
    {
     "data": {
      "text/plain": [
       "set"
      ]
     },
     "execution_count": 3,
     "metadata": {},
     "output_type": "execute_result"
    }
   ],
   "source": [
    "set_var = {\"Avengers\", \"Hitman\", 'Ironman'}\n",
    "print(set_var)\n",
    "type(set_var)"
   ]
  },
  {
   "cell_type": "markdown",
   "id": "839f7e58",
   "metadata": {},
   "source": [
    "### Indexing"
   ]
  },
  {
   "cell_type": "code",
   "execution_count": 4,
   "id": "0a62928b",
   "metadata": {},
   "outputs": [
    {
     "ename": "TypeError",
     "evalue": "'set' object is not subscriptable",
     "output_type": "error",
     "traceback": [
      "\u001b[1;31m---------------------------------------------------------------------------\u001b[0m",
      "\u001b[1;31mTypeError\u001b[0m                                 Traceback (most recent call last)",
      "\u001b[1;32m<ipython-input-4-9719c5f7d749>\u001b[0m in \u001b[0;36m<module>\u001b[1;34m\u001b[0m\n\u001b[0;32m      1\u001b[0m \u001b[1;31m# No indexing in sets\u001b[0m\u001b[1;33m\u001b[0m\u001b[1;33m\u001b[0m\u001b[1;33m\u001b[0m\u001b[0m\n\u001b[0;32m      2\u001b[0m \u001b[1;33m\u001b[0m\u001b[0m\n\u001b[1;32m----> 3\u001b[1;33m \u001b[0mset_var\u001b[0m\u001b[1;33m[\u001b[0m\u001b[1;34m\"Hitman\"\u001b[0m\u001b[1;33m]\u001b[0m\u001b[1;33m\u001b[0m\u001b[1;33m\u001b[0m\u001b[0m\n\u001b[0m",
      "\u001b[1;31mTypeError\u001b[0m: 'set' object is not subscriptable"
     ]
    }
   ],
   "source": [
    "# No indexing in sets\n",
    "\n",
    "set_var[\"Hitman\"]"
   ]
  },
  {
   "cell_type": "code",
   "execution_count": 5,
   "id": "73d8b5c6",
   "metadata": {},
   "outputs": [
    {
     "data": {
      "text/plain": [
       "{'Avengers', 'Hitman', 'Hulk', 'Ironman'}"
      ]
     },
     "execution_count": 5,
     "metadata": {},
     "output_type": "execute_result"
    }
   ],
   "source": [
    "set_var.add(\"Hulk\")\n",
    "set_var"
   ]
  },
  {
   "cell_type": "markdown",
   "id": "9d3cd182",
   "metadata": {},
   "source": [
    "### Union, Intersection, Difference\n",
    "\n",
    "Always remember you press `tab` after `.` to see the options."
   ]
  },
  {
   "cell_type": "code",
   "execution_count": 6,
   "id": "107ba722",
   "metadata": {},
   "outputs": [],
   "source": [
    "set1 = {\"Avengers\", \"Hitman\", 'Ironman'}\n",
    "set2 = {\"Avengers\", \"Hitman\", 'Ironman', \"Hulk2\"}"
   ]
  },
  {
   "cell_type": "code",
   "execution_count": 7,
   "id": "2233fa02",
   "metadata": {},
   "outputs": [
    {
     "data": {
      "text/plain": [
       "{'Hulk2'}"
      ]
     },
     "execution_count": 7,
     "metadata": {},
     "output_type": "execute_result"
    }
   ],
   "source": [
    "set2.difference(set1) "
   ]
  },
  {
   "cell_type": "code",
   "execution_count": 8,
   "id": "d28df1d7",
   "metadata": {},
   "outputs": [
    {
     "data": {
      "text/plain": [
       "{'Avengers', 'Hitman', 'Ironman'}"
      ]
     },
     "execution_count": 8,
     "metadata": {},
     "output_type": "execute_result"
    }
   ],
   "source": [
    "set2.intersection(set1)"
   ]
  },
  {
   "cell_type": "code",
   "execution_count": 11,
   "id": "5ec27277",
   "metadata": {},
   "outputs": [
    {
     "data": {
      "text/plain": [
       "{'Avengers', 'Hitman', 'Ironman'}"
      ]
     },
     "execution_count": 11,
     "metadata": {},
     "output_type": "execute_result"
    }
   ],
   "source": [
    "set2.intersection_update(set1)\n",
    "set2"
   ]
  },
  {
   "cell_type": "markdown",
   "id": "2bba3869",
   "metadata": {},
   "source": [
    "## Dictionaries\n",
    "Dictionary is a collection which is unordered, changeable and indexed. In Python, dictionaries are written with curly brackets, and they have keys and values."
   ]
  },
  {
   "cell_type": "code",
   "execution_count": 12,
   "id": "453a2845",
   "metadata": {},
   "outputs": [
    {
     "data": {
      "text/plain": [
       "dict"
      ]
     },
     "execution_count": 12,
     "metadata": {},
     "output_type": "execute_result"
    }
   ],
   "source": [
    "dic = {}\n",
    "type(dic)"
   ]
  },
  {
   "cell_type": "code",
   "execution_count": 13,
   "id": "babc2fba",
   "metadata": {},
   "outputs": [
    {
     "data": {
      "text/plain": [
       "set"
      ]
     },
     "execution_count": 13,
     "metadata": {},
     "output_type": "execute_result"
    }
   ],
   "source": [
    "set_ex = {1,2,3,4}\n",
    "type(set_ex)"
   ]
  },
  {
   "cell_type": "code",
   "execution_count": 16,
   "id": "0863483b",
   "metadata": {},
   "outputs": [
    {
     "data": {
      "text/plain": [
       "dict"
      ]
     },
     "execution_count": 16,
     "metadata": {},
     "output_type": "execute_result"
    }
   ],
   "source": [
    "my_dict = {\"Car1\": \"Audi\", \"Car2\": \"BMW\", \"Car3\": \"Mercedes Benz\"}\n",
    "type(my_dict)"
   ]
  },
  {
   "cell_type": "code",
   "execution_count": 18,
   "id": "c55751d2",
   "metadata": {},
   "outputs": [
    {
     "data": {
      "text/plain": [
       "'Audi'"
      ]
     },
     "execution_count": 18,
     "metadata": {},
     "output_type": "execute_result"
    }
   ],
   "source": [
    "my_dict[\"Car1\"]"
   ]
  },
  {
   "cell_type": "markdown",
   "id": "495ce3fd",
   "metadata": {},
   "source": [
    "We can also use for-loops to iterate through a dictionary:"
   ]
  },
  {
   "cell_type": "code",
   "execution_count": 19,
   "id": "e8cdb4a1",
   "metadata": {},
   "outputs": [
    {
     "name": "stdout",
     "output_type": "stream",
     "text": [
      "Car1\n",
      "Car2\n",
      "Car3\n"
     ]
    }
   ],
   "source": [
    "for x in my_dict:\n",
    "    print(x)"
   ]
  },
  {
   "cell_type": "code",
   "execution_count": 20,
   "id": "773433e2",
   "metadata": {},
   "outputs": [
    {
     "name": "stdout",
     "output_type": "stream",
     "text": [
      "Audi\n",
      "BMW\n",
      "Mercedes Benz\n"
     ]
    }
   ],
   "source": [
    "for x in my_dict.values():\n",
    "    print(x)"
   ]
  },
  {
   "cell_type": "code",
   "execution_count": 21,
   "id": "f7b5d00c",
   "metadata": {},
   "outputs": [
    {
     "name": "stdout",
     "output_type": "stream",
     "text": [
      "('Car1', 'Audi')\n",
      "('Car2', 'BMW')\n",
      "('Car3', 'Mercedes Benz')\n"
     ]
    }
   ],
   "source": [
    "for x in my_dict.items():\n",
    "    print(x)"
   ]
  },
  {
   "cell_type": "markdown",
   "id": "55e39f5f",
   "metadata": {},
   "source": [
    "### Add items to the dictionary"
   ]
  },
  {
   "cell_type": "code",
   "execution_count": 23,
   "id": "1bb5b659",
   "metadata": {},
   "outputs": [
    {
     "data": {
      "text/plain": [
       "{'Car1': 'Audi', 'Car2': 'BMW', 'Car3': 'Mercedes Benz', 'Car4': 'Audi 2.0'}"
      ]
     },
     "execution_count": 23,
     "metadata": {},
     "output_type": "execute_result"
    }
   ],
   "source": [
    "my_dict[\"Car4\"] = \"Audi 2.0\"\n",
    "my_dict"
   ]
  },
  {
   "cell_type": "code",
   "execution_count": 24,
   "id": "fa9d74ce",
   "metadata": {},
   "outputs": [
    {
     "data": {
      "text/plain": [
       "{'Car1': 'Maserati',\n",
       " 'Car2': 'BMW',\n",
       " 'Car3': 'Mercedes Benz',\n",
       " 'Car4': 'Audi 2.0'}"
      ]
     },
     "execution_count": 24,
     "metadata": {},
     "output_type": "execute_result"
    }
   ],
   "source": [
    "my_dict[\"Car1\"] = \"Maserati\"\n",
    "my_dict"
   ]
  },
  {
   "cell_type": "markdown",
   "id": "9d4d5e42",
   "metadata": {},
   "source": [
    "### Nested Dictionaries"
   ]
  },
  {
   "cell_type": "code",
   "execution_count": 28,
   "id": "a4646d62",
   "metadata": {},
   "outputs": [
    {
     "name": "stdout",
     "output_type": "stream",
     "text": [
      "{'Car1': {'Mercedes': 1960}, 'Car2': {'Audi': 1970}, 'Car3': {'Ambassador': 1980}}\n"
     ]
    }
   ],
   "source": [
    "car1_model = {\"Mercedes\": 1960}\n",
    "car2_model = {\"Audi\": 1970}\n",
    "car3_model = {\"Ambassador\": 1980}\n",
    "\n",
    "car_type = {\"Car1\": car1_model, \"Car2\": car2_model, \"Car3\": car3_model}\n",
    "print (car_type)"
   ]
  },
  {
   "cell_type": "code",
   "execution_count": 29,
   "id": "0cca922f",
   "metadata": {},
   "outputs": [
    {
     "data": {
      "text/plain": [
       "{'Mercedes': 1960}"
      ]
     },
     "execution_count": 29,
     "metadata": {},
     "output_type": "execute_result"
    }
   ],
   "source": [
    "# Let say we are looking for `1960`\n",
    "\n",
    "car_type[\"Car1\"]"
   ]
  },
  {
   "cell_type": "code",
   "execution_count": 30,
   "id": "8b38c58e",
   "metadata": {},
   "outputs": [
    {
     "data": {
      "text/plain": [
       "1960"
      ]
     },
     "execution_count": 30,
     "metadata": {},
     "output_type": "execute_result"
    }
   ],
   "source": [
    "car_type[\"Car1\"][\"Mercedes\"]"
   ]
  },
  {
   "cell_type": "markdown",
   "id": "718e4435",
   "metadata": {},
   "source": [
    "## Tuples\n",
    "Tuples are not mutable; once assigned the values cannot be overwritten."
   ]
  },
  {
   "cell_type": "code",
   "execution_count": 31,
   "id": "4b380974",
   "metadata": {},
   "outputs": [
    {
     "data": {
      "text/plain": [
       "tuple"
      ]
     },
     "execution_count": 31,
     "metadata": {},
     "output_type": "execute_result"
    }
   ],
   "source": [
    "my_tuple = tuple()\n",
    "type(my_tuple)"
   ]
  },
  {
   "cell_type": "code",
   "execution_count": 33,
   "id": "18429960",
   "metadata": {},
   "outputs": [
    {
     "data": {
      "text/plain": [
       "('Pouria', 'Jack', 'Suz')"
      ]
     },
     "execution_count": 33,
     "metadata": {},
     "output_type": "execute_result"
    }
   ],
   "source": [
    "my_tuple = (\"Pouria\", \"Jack\", \"Suz\")\n",
    "my_tuple"
   ]
  },
  {
   "cell_type": "code",
   "execution_count": 34,
   "id": "94d7308f",
   "metadata": {},
   "outputs": [
    {
     "data": {
      "text/plain": [
       "'Jack'"
      ]
     },
     "execution_count": 34,
     "metadata": {},
     "output_type": "execute_result"
    }
   ],
   "source": [
    "my_tuple[1]"
   ]
  },
  {
   "cell_type": "markdown",
   "id": "997d58a9",
   "metadata": {},
   "source": [
    "You can completely change the entire thing and assign a new tuple to the current tuple but you cannot do so with items."
   ]
  },
  {
   "cell_type": "code",
   "execution_count": 35,
   "id": "ae6a066b",
   "metadata": {},
   "outputs": [
    {
     "ename": "TypeError",
     "evalue": "'tuple' object does not support item assignment",
     "output_type": "error",
     "traceback": [
      "\u001b[1;31m---------------------------------------------------------------------------\u001b[0m",
      "\u001b[1;31mTypeError\u001b[0m                                 Traceback (most recent call last)",
      "\u001b[1;32m<ipython-input-35-5e149e004737>\u001b[0m in \u001b[0;36m<module>\u001b[1;34m\u001b[0m\n\u001b[1;32m----> 1\u001b[1;33m \u001b[0mmy_tuple\u001b[0m\u001b[1;33m[\u001b[0m\u001b[1;36m0\u001b[0m\u001b[1;33m]\u001b[0m \u001b[1;33m=\u001b[0m \u001b[1;34m\"Nozari\"\u001b[0m\u001b[1;33m\u001b[0m\u001b[1;33m\u001b[0m\u001b[0m\n\u001b[0m",
      "\u001b[1;31mTypeError\u001b[0m: 'tuple' object does not support item assignment"
     ]
    }
   ],
   "source": [
    "my_tuple[0] = \"Nozari\""
   ]
  },
  {
   "cell_type": "code",
   "execution_count": 38,
   "id": "443a9a79",
   "metadata": {},
   "outputs": [
    {
     "data": {
      "text/plain": [
       "('Pouria', 'Nozari')"
      ]
     },
     "execution_count": 38,
     "metadata": {},
     "output_type": "execute_result"
    }
   ],
   "source": [
    "my_tuple = (\"Pouria\", \"Nozari\")\n",
    "my_tuple"
   ]
  },
  {
   "cell_type": "code",
   "execution_count": 39,
   "id": "7a069c7e",
   "metadata": {},
   "outputs": [
    {
     "data": {
      "text/plain": [
       "1"
      ]
     },
     "execution_count": 39,
     "metadata": {},
     "output_type": "execute_result"
    }
   ],
   "source": [
    "my_tuple.count(\"Pouria\")"
   ]
  },
  {
   "cell_type": "code",
   "execution_count": 40,
   "id": "2fc943f5",
   "metadata": {},
   "outputs": [
    {
     "data": {
      "text/plain": [
       "1"
      ]
     },
     "execution_count": 40,
     "metadata": {},
     "output_type": "execute_result"
    }
   ],
   "source": [
    "my_tuple.index(\"Nozari\")"
   ]
  }
 ],
 "metadata": {
  "kernelspec": {
   "display_name": "Python 3",
   "language": "python",
   "name": "python3"
  },
  "language_info": {
   "codemirror_mode": {
    "name": "ipython",
    "version": 3
   },
   "file_extension": ".py",
   "mimetype": "text/x-python",
   "name": "python",
   "nbconvert_exporter": "python",
   "pygments_lexer": "ipython3",
   "version": "3.8.8"
  }
 },
 "nbformat": 4,
 "nbformat_minor": 5
}
