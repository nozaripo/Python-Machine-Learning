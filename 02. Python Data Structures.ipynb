{
 "cells": [
  {
   "cell_type": "markdown",
   "id": "17f1699d",
   "metadata": {},
   "source": [
    "# Python Data Structures and Boolean\n",
    "\n",
    "- Boolean and Logical Operators\n",
    "- Lists\n",
    "- Comparison operators\n",
    "- Dictionaries\n",
    "- Tuples\n",
    "- Sets"
   ]
  },
  {
   "cell_type": "markdown",
   "id": "079b8e5c",
   "metadata": {},
   "source": [
    "## Boolean Variable"
   ]
  },
  {
   "cell_type": "markdown",
   "id": "e8b80c3a",
   "metadata": {},
   "source": [
    "You can use function `bool()` to create a boolean variable"
   ]
  },
  {
   "cell_type": "code",
   "execution_count": 4,
   "id": "4f57de36",
   "metadata": {},
   "outputs": [
    {
     "data": {
      "text/plain": [
       "False"
      ]
     },
     "execution_count": 4,
     "metadata": {},
     "output_type": "execute_result"
    }
   ],
   "source": [
    "bool(0)"
   ]
  },
  {
   "cell_type": "code",
   "execution_count": 5,
   "id": "b96fdd91",
   "metadata": {},
   "outputs": [
    {
     "data": {
      "text/plain": [
       "True"
      ]
     },
     "execution_count": 5,
     "metadata": {},
     "output_type": "execute_result"
    }
   ],
   "source": [
    "bool(1)"
   ]
  },
  {
   "cell_type": "code",
   "execution_count": 6,
   "id": "b2abb421",
   "metadata": {},
   "outputs": [
    {
     "data": {
      "text/plain": [
       "bool"
      ]
     },
     "execution_count": 6,
     "metadata": {},
     "output_type": "execute_result"
    }
   ],
   "source": [
    "type(True)"
   ]
  },
  {
   "cell_type": "code",
   "execution_count": 27,
   "id": "f06c485c",
   "metadata": {},
   "outputs": [],
   "source": [
    "my_str = \"PouriaNozari\""
   ]
  },
  {
   "cell_type": "code",
   "execution_count": null,
   "id": "3d17f1b2",
   "metadata": {},
   "outputs": [],
   "source": [
    "my_str.istitle()"
   ]
  },
  {
   "cell_type": "code",
   "execution_count": 28,
   "id": "05653377",
   "metadata": {},
   "outputs": [
    {
     "name": "stdout",
     "output_type": "stream",
     "text": [
      "True\n",
      "True\n",
      "False\n",
      "True\n",
      "False\n",
      "False\n",
      "False\n",
      "False\n",
      "False\n"
     ]
    }
   ],
   "source": [
    "print(my_str.isalnum()) # Check if all char are numbers and alphabetic - Should not have space\n",
    "print(my_str.isalpha()) # Check if all char are alphabetic - Should not have space\n",
    "print(my_str.isdigit()) # Check if the string is all numbers\n",
    "print(my_str.istitle()) # Check if the string contains title words - Only the first char should be Cap letter\n",
    "print(my_str.isupper()) # Check if the string is all upper case\n",
    "print(my_str.islower()) # Check if the string is all lower case\n",
    "print(my_str.isspace()) # Check if the string is all white spaces\n",
    "print(my_str.endswith(\"r\")) # Check if the string ends with \"r\"\n",
    "print(my_str.startswith(\"p\")) # Check if the string ends with \"p\""
   ]
  },
  {
   "cell_type": "markdown",
   "id": "2bb9f57d",
   "metadata": {},
   "source": [
    "## Boolean and Logical Operators"
   ]
  },
  {
   "cell_type": "code",
   "execution_count": 29,
   "id": "67e1d4f8",
   "metadata": {},
   "outputs": [
    {
     "data": {
      "text/plain": [
       "True"
      ]
     },
     "execution_count": 29,
     "metadata": {},
     "output_type": "execute_result"
    }
   ],
   "source": [
    "True and True"
   ]
  },
  {
   "cell_type": "code",
   "execution_count": 30,
   "id": "6cd26b6b",
   "metadata": {},
   "outputs": [
    {
     "data": {
      "text/plain": [
       "False"
      ]
     },
     "execution_count": 30,
     "metadata": {},
     "output_type": "execute_result"
    }
   ],
   "source": [
    "True and False"
   ]
  },
  {
   "cell_type": "code",
   "execution_count": 32,
   "id": "9a591912",
   "metadata": {},
   "outputs": [
    {
     "data": {
      "text/plain": [
       "True"
      ]
     },
     "execution_count": 32,
     "metadata": {},
     "output_type": "execute_result"
    }
   ],
   "source": [
    "True or False"
   ]
  },
  {
   "cell_type": "code",
   "execution_count": 34,
   "id": "157d85e0",
   "metadata": {},
   "outputs": [
    {
     "data": {
      "text/plain": [
       "False"
      ]
     },
     "execution_count": 34,
     "metadata": {},
     "output_type": "execute_result"
    }
   ],
   "source": [
    "False or False"
   ]
  },
  {
   "cell_type": "code",
   "execution_count": 40,
   "id": "a3802459",
   "metadata": {},
   "outputs": [],
   "source": [
    "str_eg = 'Hello World'\n",
    "my_str = \"Pouria\""
   ]
  },
  {
   "cell_type": "code",
   "execution_count": 45,
   "id": "d6926ca7",
   "metadata": {},
   "outputs": [
    {
     "data": {
      "text/plain": [
       "True"
      ]
     },
     "execution_count": 45,
     "metadata": {},
     "output_type": "execute_result"
    }
   ],
   "source": [
    "my_str.isalpha() or str_eg.isnumeric()"
   ]
  },
  {
   "cell_type": "markdown",
   "id": "84568816",
   "metadata": {},
   "source": [
    "## Lists\n",
    "A list is a data structure in Python that is a mutable, or changeable, ordered sequence of elements. Each element or value that is inside of a list is called an item. Just as strings are defined as characters between quotes, lists are defined by having values between square brackets `[ ]`."
   ]
  },
  {
   "cell_type": "code",
   "execution_count": 46,
   "id": "6539a713",
   "metadata": {},
   "outputs": [],
   "source": [
    "list_example = []"
   ]
  },
  {
   "cell_type": "code",
   "execution_count": 47,
   "id": "bb7278f1",
   "metadata": {},
   "outputs": [
    {
     "data": {
      "text/plain": [
       "list"
      ]
     },
     "execution_count": 47,
     "metadata": {},
     "output_type": "execute_result"
    }
   ],
   "source": [
    "type(list_example)"
   ]
  },
  {
   "cell_type": "markdown",
   "id": "ec529d55",
   "metadata": {},
   "source": [
    "You can also use `list()` to convert a non-list object to a list object."
   ]
  },
  {
   "cell_type": "code",
   "execution_count": 48,
   "id": "9f70d05b",
   "metadata": {},
   "outputs": [],
   "source": [
    "lst = [\"Math\", \"Chemistry\", 200, 12, True]"
   ]
  },
  {
   "cell_type": "code",
   "execution_count": 49,
   "id": "ef275803",
   "metadata": {},
   "outputs": [
    {
     "data": {
      "text/plain": [
       "5"
      ]
     },
     "execution_count": 49,
     "metadata": {},
     "output_type": "execute_result"
    }
   ],
   "source": [
    "len(lst)"
   ]
  },
  {
   "cell_type": "code",
   "execution_count": 50,
   "id": "3cfd3adc",
   "metadata": {},
   "outputs": [],
   "source": [
    "lst2 = [[\"Math\", \"Chemistry\"], [21, 12], True]"
   ]
  },
  {
   "cell_type": "code",
   "execution_count": 51,
   "id": "e480d243",
   "metadata": {},
   "outputs": [
    {
     "data": {
      "text/plain": [
       "3"
      ]
     },
     "execution_count": 51,
     "metadata": {},
     "output_type": "execute_result"
    }
   ],
   "source": [
    "len(lst2)"
   ]
  },
  {
   "cell_type": "markdown",
   "id": "15d71484",
   "metadata": {},
   "source": [
    "### Indexing"
   ]
  },
  {
   "cell_type": "code",
   "execution_count": 54,
   "id": "0c9a3e8e",
   "metadata": {},
   "outputs": [
    {
     "data": {
      "text/plain": [
       "12"
      ]
     },
     "execution_count": 54,
     "metadata": {},
     "output_type": "execute_result"
    }
   ],
   "source": [
    "lst[3]"
   ]
  },
  {
   "cell_type": "code",
   "execution_count": 56,
   "id": "d595889d",
   "metadata": {},
   "outputs": [
    {
     "data": {
      "text/plain": [
       "12"
      ]
     },
     "execution_count": 56,
     "metadata": {},
     "output_type": "execute_result"
    }
   ],
   "source": [
    "lst2[1][1]"
   ]
  },
  {
   "cell_type": "code",
   "execution_count": 57,
   "id": "ff88876d",
   "metadata": {},
   "outputs": [
    {
     "data": {
      "text/plain": [
       "['Chemistry', 200, 12, True, 'Pouria']"
      ]
     },
     "execution_count": 57,
     "metadata": {},
     "output_type": "execute_result"
    }
   ],
   "source": [
    "lst[1:]"
   ]
  },
  {
   "cell_type": "code",
   "execution_count": 59,
   "id": "baa4367e",
   "metadata": {
    "scrolled": true
   },
   "outputs": [
    {
     "data": {
      "text/plain": [
       "['Chemistry', 200, 12, True]"
      ]
     },
     "execution_count": 59,
     "metadata": {},
     "output_type": "execute_result"
    }
   ],
   "source": [
    "lst[1:-1]\n",
    "lst[1:len(lst)-1]"
   ]
  },
  {
   "cell_type": "markdown",
   "id": "5dfe05c3",
   "metadata": {},
   "source": [
    "### Append"
   ]
  },
  {
   "cell_type": "code",
   "execution_count": 52,
   "id": "cd24aa08",
   "metadata": {},
   "outputs": [],
   "source": [
    "lst.append(\"Pouria\")"
   ]
  },
  {
   "cell_type": "code",
   "execution_count": 53,
   "id": "07f20d5b",
   "metadata": {},
   "outputs": [
    {
     "data": {
      "text/plain": [
       "['Math', 'Chemistry', 200, 12, True, 'Pouria']"
      ]
     },
     "execution_count": 53,
     "metadata": {},
     "output_type": "execute_result"
    }
   ],
   "source": [
    "lst"
   ]
  },
  {
   "cell_type": "markdown",
   "id": "565d792e",
   "metadata": {},
   "source": [
    "Add multiple entities as a nested list"
   ]
  },
  {
   "cell_type": "code",
   "execution_count": 60,
   "id": "4960ec45",
   "metadata": {},
   "outputs": [],
   "source": [
    "lst.append([\"John\", \"Jack\"])"
   ]
  },
  {
   "cell_type": "code",
   "execution_count": 61,
   "id": "0bd4df10",
   "metadata": {},
   "outputs": [
    {
     "data": {
      "text/plain": [
       "['Math', 'Chemistry', 200, 12, True, 'Pouria', ['John', 'Jack']]"
      ]
     },
     "execution_count": 61,
     "metadata": {},
     "output_type": "execute_result"
    }
   ],
   "source": [
    "lst"
   ]
  },
  {
   "cell_type": "markdown",
   "id": "22f3d5fe",
   "metadata": {},
   "source": [
    "### Insert\n",
    "Insert in a specific order"
   ]
  },
  {
   "cell_type": "code",
   "execution_count": 62,
   "id": "b82bfd37",
   "metadata": {},
   "outputs": [],
   "source": [
    "lst.insert(1, \"Nozari\")"
   ]
  },
  {
   "cell_type": "code",
   "execution_count": 63,
   "id": "22fd7ec5",
   "metadata": {},
   "outputs": [
    {
     "data": {
      "text/plain": [
       "['Math', 'Nozari', 'Chemistry', 200, 12, True, 'Pouria', ['John', 'Jack']]"
      ]
     },
     "execution_count": 63,
     "metadata": {},
     "output_type": "execute_result"
    }
   ],
   "source": [
    "lst"
   ]
  },
  {
   "cell_type": "markdown",
   "id": "144c19d0",
   "metadata": {},
   "source": [
    "### Extend\n",
    "Add multiple entities separately"
   ]
  },
  {
   "cell_type": "code",
   "execution_count": 65,
   "id": "0b55a6b7",
   "metadata": {},
   "outputs": [],
   "source": [
    "lst.extend([\"Jack\", \"John\"])"
   ]
  },
  {
   "cell_type": "code",
   "execution_count": 66,
   "id": "26006eee",
   "metadata": {},
   "outputs": [
    {
     "data": {
      "text/plain": [
       "['Math',\n",
       " 'Nozari',\n",
       " 'Chemistry',\n",
       " 200,\n",
       " 12,\n",
       " True,\n",
       " 'Pouria',\n",
       " ['John', 'Jack'],\n",
       " 'Jack',\n",
       " 'John',\n",
       " 'Jack',\n",
       " 'John']"
      ]
     },
     "execution_count": 66,
     "metadata": {},
     "output_type": "execute_result"
    }
   ],
   "source": [
    "lst"
   ]
  },
  {
   "cell_type": "markdown",
   "id": "fe4c5876",
   "metadata": {},
   "source": [
    "### `pop()` Method"
   ]
  },
  {
   "cell_type": "code",
   "execution_count": 68,
   "id": "9307cb7c",
   "metadata": {},
   "outputs": [
    {
     "data": {
      "text/plain": [
       "'John'"
      ]
     },
     "execution_count": 68,
     "metadata": {},
     "output_type": "execute_result"
    }
   ],
   "source": [
    "lst.pop()"
   ]
  },
  {
   "cell_type": "code",
   "execution_count": 69,
   "id": "4548681b",
   "metadata": {},
   "outputs": [
    {
     "data": {
      "text/plain": [
       "'Math'"
      ]
     },
     "execution_count": 69,
     "metadata": {},
     "output_type": "execute_result"
    }
   ],
   "source": [
    "lst.pop(0)"
   ]
  },
  {
   "cell_type": "markdown",
   "id": "6333399a",
   "metadata": {},
   "source": [
    "### `count()`"
   ]
  },
  {
   "cell_type": "code",
   "execution_count": 70,
   "id": "ec37591d",
   "metadata": {},
   "outputs": [
    {
     "data": {
      "text/plain": [
       "1"
      ]
     },
     "execution_count": 70,
     "metadata": {},
     "output_type": "execute_result"
    }
   ],
   "source": [
    "lst.count(\"John\")"
   ]
  },
  {
   "cell_type": "markdown",
   "id": "167f3a28",
   "metadata": {},
   "source": [
    "### `.index()`"
   ]
  },
  {
   "cell_type": "code",
   "execution_count": 71,
   "id": "a81cddcf",
   "metadata": {},
   "outputs": [],
   "source": [
    "lst = [1, 1, 2, 23, 4]"
   ]
  },
  {
   "cell_type": "code",
   "execution_count": 72,
   "id": "f0339650",
   "metadata": {},
   "outputs": [
    {
     "data": {
      "text/plain": [
       "0"
      ]
     },
     "execution_count": 72,
     "metadata": {},
     "output_type": "execute_result"
    }
   ],
   "source": [
    "lst.index(1)"
   ]
  },
  {
   "cell_type": "code",
   "execution_count": 73,
   "id": "d2dda178",
   "metadata": {},
   "outputs": [
    {
     "data": {
      "text/plain": [
       "1"
      ]
     },
     "execution_count": 73,
     "metadata": {},
     "output_type": "execute_result"
    }
   ],
   "source": [
    "lst.index(1,1,4)"
   ]
  },
  {
   "cell_type": "markdown",
   "id": "5f5c6510",
   "metadata": {},
   "source": [
    "### Some other operations on Lists"
   ]
  },
  {
   "cell_type": "code",
   "execution_count": 74,
   "id": "afa967af",
   "metadata": {},
   "outputs": [
    {
     "data": {
      "text/plain": [
       "[1, 1, 2, 23, 4, 1, 1, 2, 23, 4]"
      ]
     },
     "execution_count": 74,
     "metadata": {},
     "output_type": "execute_result"
    }
   ],
   "source": [
    "lst*2"
   ]
  },
  {
   "cell_type": "markdown",
   "id": "21081b3a",
   "metadata": {},
   "source": [
    "## Sets\n",
    "A set is an unordered collection data type that is iterable, mutable, and has no duplicate elements. Python's set class represents the mathematical notion of a set. This is based on a data structure known as a **hash table**."
   ]
  }
 ],
 "metadata": {
  "kernelspec": {
   "display_name": "Python 3",
   "language": "python",
   "name": "python3"
  },
  "language_info": {
   "codemirror_mode": {
    "name": "ipython",
    "version": 3
   },
   "file_extension": ".py",
   "mimetype": "text/x-python",
   "name": "python",
   "nbconvert_exporter": "python",
   "pygments_lexer": "ipython3",
   "version": "3.8.8"
  }
 },
 "nbformat": 4,
 "nbformat_minor": 5
}
